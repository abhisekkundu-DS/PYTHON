{
 "cells": [
  {
   "cell_type": "raw",
   "id": "3da3b77e-b4b4-42bc-b4f5-db8cd3a65e67",
   "metadata": {},
   "source": [
    "#Defination - we can define a function using the keyword def followed by function name.after the function name we should  write parentheses ()which MAY CONTAIN PARAMETERS \n",
    "#calling dunction : A function can not run on its own .it runs only when we call it.\n",
    "# Afunction that aecept two values and fields and their sum\n",
    "def sum(a,b):\n",
    "    c = a + b\n",
    "    print('sum = ', c) "
   ]
  },
  {
   "cell_type": "code",
   "execution_count": 56,
   "id": "da9ac440-d89d-4f5b-b2a3-1bd5b2226a04",
   "metadata": {},
   "outputs": [
    {
     "name": "stdout",
     "output_type": "stream",
     "text": [
      "sum =  50\n"
     ]
    }
   ],
   "source": [
    "sum(10,40)"
   ]
  },
  {
   "cell_type": "code",
   "execution_count": 58,
   "id": "13521364-5806-4850-b2df-19d966f9d327",
   "metadata": {},
   "outputs": [],
   "source": [
    "# A to test weither a number is odd or even \n",
    "def even_odd(a):\n",
    "    if a % 2 == 0:\n",
    "        print(\"The number is even number\")\n",
    "    else:\n",
    "        print(\"The number is odd number\")"
   ]
  },
  {
   "cell_type": "code",
   "execution_count": 60,
   "id": "bc1ae2ba-15c3-4a51-94e2-304f59d7fc5b",
   "metadata": {},
   "outputs": [
    {
     "name": "stdout",
     "output_type": "stream",
     "text": [
      "The number is even number\n",
      "The number is odd number\n"
     ]
    },
    {
     "data": {
      "text/plain": [
       "(None, None)"
      ]
     },
     "execution_count": 60,
     "metadata": {},
     "output_type": "execute_result"
    }
   ],
   "source": [
    "even_odd(12),even_odd(23)"
   ]
  },
  {
   "cell_type": "code",
   "execution_count": 62,
   "id": "3415a387-167d-477e-9555-d4af6aa60ab2",
   "metadata": {},
   "outputs": [],
   "source": [
    "#a function to calculate factorial value \n",
    "def fact(n):\n",
    "    start = 1\n",
    "    while n > 1:\n",
    "        start = start * n\n",
    "        n = n - 1\n",
    "    return start\n",
    "     "
   ]
  },
  {
   "cell_type": "code",
   "execution_count": 64,
   "id": "e307ef37-daec-4005-8249-9b591fbce2c3",
   "metadata": {},
   "outputs": [
    {
     "data": {
      "text/plain": [
       "120"
      ]
     },
     "execution_count": 64,
     "metadata": {},
     "output_type": "execute_result"
    }
   ],
   "source": [
    "fact(5)"
   ]
  },
  {
   "cell_type": "code",
   "execution_count": 66,
   "id": "4e932e44-29fc-4547-aa66-184730374e78",
   "metadata": {},
   "outputs": [
    {
     "name": "stdout",
     "output_type": "stream",
     "text": [
      "Factorial of 1 is 1\n",
      "Factorial of 2 is 2\n",
      "Factorial of 3 is 6\n",
      "Factorial of 4 is 24\n",
      "Factorial of 5 is 120\n",
      "Factorial of 6 is 720\n",
      "Factorial of 7 is 5040\n",
      "Factorial of 8 is 40320\n",
      "Factorial of 9 is 362880\n",
      "Factorial of 10 is 3628800\n"
     ]
    }
   ],
   "source": [
    "for i in range (1,11):\n",
    "    print('Factorial of {} is {}'.format(i,fact(i)))"
   ]
  },
  {
   "cell_type": "code",
   "execution_count": 68,
   "id": "a15fbfd5-2f2b-4858-8589-62784106916d",
   "metadata": {},
   "outputs": [],
   "source": [
    "#write  A pytho function to check a given function is prime or not \n",
    "def prime(n):\n",
    "    if n>1:\n",
    "        for i in range (2,n):\n",
    "            if n % i == 0:\n",
    "                print(\"This number is not prime\")\n",
    "                break\n",
    "            else :\n",
    "                print('This is a prime number')\n",
    "                \n",
    "    elif n == 1:\n",
    "        print(\"NO 1 is a prime number\")\n",
    "    else:\n",
    "        print(\"This number is less then 1\")"
   ]
  },
  {
   "cell_type": "code",
   "execution_count": 70,
   "id": "9c63cfed-19e5-4957-8107-6f5853042f75",
   "metadata": {},
   "outputs": [
    {
     "name": "stdout",
     "output_type": "stream",
     "text": [
      "This is a prime number\n",
      "This number is not prime\n"
     ]
    },
    {
     "data": {
      "text/plain": [
       "(None, None)"
      ]
     },
     "execution_count": 70,
     "metadata": {},
     "output_type": "execute_result"
    }
   ],
   "source": [
    "prime(3),prime(100)"
   ]
  },
  {
   "cell_type": "raw",
   "id": "8606f9d4-8d9f-4224-af29-f06ace35d15a",
   "metadata": {},
   "source": [
    "#Function are first class object\n",
    "#we can pass a function to another function just like we pass object(or value) to a function.\n",
    "# assign a fumction to a varible .\n",
    "# define one fumction inside to another function \n",
    "#"
   ]
  },
  {
   "cell_type": "code",
   "execution_count": 74,
   "id": "fb6f2125-9ba3-40be-89fd-37812ac1e840",
   "metadata": {},
   "outputs": [
    {
     "name": "stdout",
     "output_type": "stream",
     "text": [
      "HaiKrishna\n"
     ]
    }
   ],
   "source": [
    "#A python program to see  how to asign a function to a varible\n",
    "def display(str):\n",
    "    return 'Hai' + str\n",
    "x = display(\"Krishna\")\n",
    "print(x)"
   ]
  },
  {
   "cell_type": "code",
   "execution_count": 78,
   "id": "47491a52-2d54-4a8e-885a-1db1c2de5504",
   "metadata": {},
   "outputs": [
    {
     "name": "stdout",
     "output_type": "stream",
     "text": [
      "How are you ? Krishna\n"
     ]
    }
   ],
   "source": [
    "#A python program to know to define a function inside another function\n",
    "def display(str):\n",
    "    def message():\n",
    "        return \"How are you ?\"\n",
    "    result = message() + \" \" + str\n",
    "    return result\n",
    "\n",
    "print(display(\"Krishna\"))"
   ]
  },
  {
   "cell_type": "code",
   "execution_count": 85,
   "id": "dd6d62da-4e8c-43ad-a895-7330b5a13adb",
   "metadata": {},
   "outputs": [
    {
     "name": "stdout",
     "output_type": "stream",
     "text": [
      "ABHI How are you ? \n"
     ]
    }
   ],
   "source": [
    "#A pyhton program to know how to pass  as parameter to other function \n",
    "def display(fun):\n",
    "    return 'ABHI' + fun\n",
    "\n",
    "def message():\n",
    "    return ' How are you ? '\n",
    "print(display(message()))"
   ]
  },
  {
   "cell_type": "code",
   "execution_count": 89,
   "id": "ae9453d9-c228-4a83-9ada-b0bed5eb9dab",
   "metadata": {},
   "outputs": [
    {
     "name": "stdout",
     "output_type": "stream",
     "text": [
      "210 140730124030936\n",
      "210 140730124030936\n"
     ]
    }
   ],
   "source": [
    "#PASS BY OBJECT REFERENCE\n",
    "#PASS BY REFERENCE OR CALL BY REFERENCE\n",
    "\n",
    "def mod(x):\n",
    "    X = 15\n",
    "    print(x, id(x))\n",
    "\n",
    "x = 210\n",
    "mod(x)\n",
    "print(x,id(x))\n"
   ]
  },
  {
   "cell_type": "code",
   "execution_count": null,
   "id": "03b2b52a-f53d-4890-af60-fc290e72bb7b",
   "metadata": {},
   "outputs": [],
   "source": [
    "#A python  program to pass a list to a function and modify it\n",
    "def modify(lst):\n",
    "    lst.append(9)\n",
    "    print(lst,id(lst))\n",
    "\n",
    "lst = [1,2,3,4,5,6]\n",
    "modify(lst)\n",
    "print(lst,id(lst"
   ]
  }
 ],
 "metadata": {
  "kernelspec": {
   "display_name": "Python 3 (ipykernel)",
   "language": "python",
   "name": "python3"
  },
  "language_info": {
   "codemirror_mode": {
    "name": "ipython",
    "version": 3
   },
   "file_extension": ".py",
   "mimetype": "text/x-python",
   "name": "python",
   "nbconvert_exporter": "python",
   "pygments_lexer": "ipython3",
   "version": "3.12.4"
  }
 },
 "nbformat": 4,
 "nbformat_minor": 5
}
