{
 "cells": [
  {
   "cell_type": "raw",
   "id": "24a94385-f23e-45ae-9edf-5773caf63525",
   "metadata": {},
   "source": [
    "##GCD\n",
    "#souppose d divide m and n\n",
    "#then m = ad , n = bd\n",
    "#therefore  d divided m - n \n",
    "#similarly  we write m = nq+r\n",
    "#         m = qn+r= qbd+ r \n",
    "#         r must divided  cd\n",
    "#         gcd(n, m mod n)"
   ]
  },
  {
   "cell_type": "code",
   "execution_count": 39,
   "id": "5dcf52be-83be-4d35-8539-fc0c368b0619",
   "metadata": {},
   "outputs": [],
   "source": [
    "def gcd(m,n):\n",
    "    (a,b) =(max(m,n),min(m,n))\n",
    "    if a%b == 0:\n",
    "        return(b)\n",
    "    else:\n",
    "        return(gcd(b,a%b))"
   ]
  },
  {
   "cell_type": "code",
   "execution_count": 41,
   "id": "e133d3e6-ba4f-476e-a920-79e3a7b0a4f7",
   "metadata": {},
   "outputs": [
    {
     "name": "stdout",
     "output_type": "stream",
     "text": [
      "1\n"
     ]
    }
   ],
   "source": [
    "print(gcd(5,7))"
   ]
  },
  {
   "cell_type": "code",
   "execution_count": 43,
   "id": "f7f40a3f-906d-43d0-a8d4-9b3796fb1156",
   "metadata": {},
   "outputs": [],
   "source": [
    "def gcd(m,n):\n",
    "    (a,b) =(max(m,n),min(m,n))\n",
    "    if a%b == 0:\n",
    "        return(b)\n",
    "    else:\n",
    "        return(gcd(b,a-b))"
   ]
  },
  {
   "cell_type": "code",
   "execution_count": 45,
   "id": "13005a71-b381-4eed-8b41-c4e4f1d1fcbf",
   "metadata": {},
   "outputs": [
    {
     "name": "stdout",
     "output_type": "stream",
     "text": [
      "1\n"
     ]
    }
   ],
   "source": [
    "print(gcd(5,7))"
   ]
  },
  {
   "cell_type": "raw",
   "id": "789f7232-bb40-4a44-9b22-64dfb8ec9a78",
   "metadata": {},
   "source": [
    "#our code could  generate many types of errors\n",
    "#     1. y = x/z but z has value 0\n",
    "#     2. y = int(s).but string s does not represent a valid integer\n",
    "#     3. y = 5*x but x does not have a value\n",
    "#     4. y = l[i] but i not a valied index for list l\n",
    "#     5.try to ride from file.but the file does not exist\n",
    "#     6.try  write to a file but the disk is full"
   ]
  },
  {
   "cell_type": "raw",
   "id": "9e0ae43d-a66e-457a-a882-e6e0a04feafd",
   "metadata": {},
   "source": [
    "#classes and objects\n",
    "# Abstract datatypes\n",
    "#   store some imformation\n",
    "#   designated function to manpulation the information\n",
    "# for instance stack ,lastin first out ,pus(),pop()\n",
    "\n",
    "#class\n",
    "#  template for data type\n",
    "# how data stored\n",
    "# howw publuc function  manupulate this data\n",
    "\n",
    "#object\n",
    "# concern instance of template"
   ]
  },
  {
   "cell_type": "code",
   "execution_count": 85,
   "id": "70f3c48a-951c-4a2e-9244-7f98f5ba09e7",
   "metadata": {},
   "outputs": [],
   "source": [
    "#2d point storing\n",
    "class point: #define a class\n",
    "    def __init__(self,a=0,b=0): #special dunction init both side create point (0,0) \n",
    "        self.x=a  # initilize\n",
    "        self.y=b\n",
    "        \n",
    "#translation :shift a point by (delx , del y)\n",
    "#   (x,y) ---> (x + delx, y + del y)\n",
    "\n",
    "    def translate(self,deltax,deltay):\n",
    "        self.x += deltax\n",
    "        self.y += deltay\n",
    "\n",
    "#distance from origin \n",
    "# by pyhta..theorem  d = squre root over (a*a +  b*b)\n",
    "\n",
    "    def odistance(self):\n",
    "        import math\n",
    "        d = math.sqrt(self.x*self.x + self.y*self.y)\n",
    "        return (d)\n",
    "\n",
    "#(r,0) instead of (x,y)\n",
    "# r = sqrt(x*x + y*y)\n",
    "# 0=tan-1(y/x)\n"
   ]
  },
  {
   "cell_type": "code",
   "execution_count": 87,
   "id": "472fbb0c-2dc5-4bac-8455-a4e19395189e",
   "metadata": {},
   "outputs": [],
   "source": [
    "p = point(3,10)\n",
    "q = point(20,45)"
   ]
  },
  {
   "cell_type": "code",
   "execution_count": 89,
   "id": "b2e770b8-8f8b-44d0-81cf-0800bfeff886",
   "metadata": {},
   "outputs": [
    {
     "data": {
      "text/plain": [
       "(10.44030650891055, 49.24428900898052)"
      ]
     },
     "execution_count": 89,
     "metadata": {},
     "output_type": "execute_result"
    }
   ],
   "source": [
    "p.odistance(),q.odistance()"
   ]
  },
  {
   "cell_type": "raw",
   "id": "682f4f7c-9bd4-47ee-b517-e0a6c776d057",
   "metadata": {},
   "source": [
    "#(r,0) instead of (x,y)\n",
    "# r = sqrt(x*x + y*y)\n",
    "# 0=tan-1(y/x)\n"
   ]
  },
  {
   "cell_type": "code",
   "execution_count": 92,
   "id": "d38c2dd1-23ba-493e-8cb7-0dc96599fc7a",
   "metadata": {},
   "outputs": [],
   "source": [
    "import math\n",
    "class point:\n",
    "    def __init__(self,a=0,b=0):\n",
    "        self.r = math.sqrt(a*a+b*b)\n",
    "        if a == 0:\n",
    "            self.theta = math.pi/2\n",
    "        else :\n",
    "            self.theta = math.atan(b/a)\n",
    "    def odistance(self):\n",
    "        return(self.r)\n",
    "\n",
    "    def translate(self,deltax,deltay):\n",
    "        x = self.r*math.cos(self.theta)\n",
    "        y = self.r*math.sin(self.theta)\n",
    "        x += deltax\n",
    "        y += deltay\n",
    "        self.r = math.sqrt(x*X,y*y)\n",
    "        if x == 0:\n",
    "            self.theta = math.pi/2\n",
    "        else:\n",
    "            self.theta = math.atan(y/x)\n",
    "        "
   ]
  },
  {
   "cell_type": "code",
   "execution_count": 94,
   "id": "6b14d7b8-230d-472d-b603-5421357fdfa8",
   "metadata": {},
   "outputs": [],
   "source": [
    "p = point(3,10)"
   ]
  },
  {
   "cell_type": "raw",
   "id": "a0ebdd06-c6ba-42ce-9a94-d14c6b32bc45",
   "metadata": {},
   "source": [
    "#when i print a value of x to convert x\n",
    "\n",
    "\n",
    "#   def __str__(self):\n",
    "#       '('+str(self.x)+','+str(self,y)+')'"
   ]
  },
  {
   "cell_type": "code",
   "execution_count": null,
   "id": "ad3e2f1e-5ca6-4893-aca0-3020d57c093e",
   "metadata": {},
   "outputs": [],
   "source": [
    "#A real world problem \n",
    "#   Every sim cards needs to anadhar card\n",
    "#   Validte the Adhar details for eich sim card\n",
    "#   simple nested loop\n",
    "#"
   ]
  },
  {
   "cell_type": "code",
   "execution_count": 27,
   "id": "3dbfeff3-485f-4267-bc7f-6327ec491d7a",
   "metadata": {},
   "outputs": [],
   "source": [
    "def gcd(m,n):\n",
    "    cf = []\n",
    "    for i in range(1,min(m,n)+1):\n",
    "        if (m%i) == 0 and (n%i) == 0:\n",
    "            cf.append(i)\n",
    "        return(cf[-1])"
   ]
  },
  {
   "cell_type": "code",
   "execution_count": 29,
   "id": "d070679c-5a56-4a73-8119-96490ea9b86f",
   "metadata": {},
   "outputs": [
    {
     "name": "stdout",
     "output_type": "stream",
     "text": [
      "1\n"
     ]
    }
   ],
   "source": [
    "print(gcd(956,22))"
   ]
  },
  {
   "cell_type": "code",
   "execution_count": 7,
   "id": "5d83f3fb-ac7b-450d-9ce0-30fdf586579a",
   "metadata": {},
   "outputs": [],
   "source": [
    "#find the maximum element of the list\n",
    "def maxElement(L):\n",
    "    maxval = L[0]\n",
    "    for i in range(len(L)):\n",
    "        if L[i] > maxval:\n",
    "            maxval = L[i]\n",
    "    return(maxval)"
   ]
  },
  {
   "cell_type": "code",
   "execution_count": 14,
   "id": "52f99d3a-7d80-4a18-949a-e13abcf2418b",
   "metadata": {},
   "outputs": [
    {
     "data": {
      "text/plain": [
       "9"
      ]
     },
     "execution_count": 14,
     "metadata": {},
     "output_type": "execute_result"
    }
   ],
   "source": [
    "L=[4,5,6,7,8,9]\n",
    "maxElement(L)"
   ]
  },
  {
   "cell_type": "code",
   "execution_count": 40,
   "id": "ea452d92-e2d7-4504-bc26-685a7242a51b",
   "metadata": {},
   "outputs": [],
   "source": [
    "#check alist contains duplicate element\n",
    "def noDuplicates(L):\n",
    "    for i in range(len(L)):\n",
    "        for j in range(i,len(L)):\n",
    "            if L[i] == L[j]:\n",
    "                return(\"there has a duplicate element in given list\")\n",
    "            return(\"Every of this list is unique\")"
   ]
  },
  {
   "cell_type": "code",
   "execution_count": 42,
   "id": "c3af5f31-cb91-4630-b950-32d7c8ecd397",
   "metadata": {},
   "outputs": [
    {
     "data": {
      "text/plain": [
       "'there has a duplicate element in given list'"
      ]
     },
     "execution_count": 42,
     "metadata": {},
     "output_type": "execute_result"
    }
   ],
   "source": [
    "noDuplicates(L)"
   ]
  },
  {
   "cell_type": "code",
   "execution_count": 44,
   "id": "fb5f70f6-244a-452c-8d6c-7b030a37fc42",
   "metadata": {},
   "outputs": [
    {
     "data": {
      "text/plain": [
       "'there has a duplicate element in given list'"
      ]
     },
     "execution_count": 44,
     "metadata": {},
     "output_type": "execute_result"
    }
   ],
   "source": [
    "m = [10,25,54,78,56,25]\n",
    "noDuplicates(m)"
   ]
  },
  {
   "cell_type": "code",
   "execution_count": 52,
   "id": "65e55384-822d-44df-ac2e-f14705adc967",
   "metadata": {},
   "outputs": [],
   "source": [
    "#search problem \n",
    "# is value V present in list l ?\n",
    "def naviesearch(v,L):\n",
    "    for x in L:\n",
    "        if v == x:\n",
    "            return(True)\n",
    "    return(False)\n",
    "        "
   ]
  },
  {
   "cell_type": "code",
   "execution_count": 54,
   "id": "5093dca3-662b-4367-958c-e265870f32c5",
   "metadata": {},
   "outputs": [
    {
     "data": {
      "text/plain": [
       "(True, False)"
      ]
     },
     "execution_count": 54,
     "metadata": {},
     "output_type": "execute_result"
    }
   ],
   "source": [
    "L = [4,5,6,7,8,9]\n",
    "naviesearch(5,L),naviesearch(0,L)"
   ]
  },
  {
   "cell_type": "raw",
   "id": "a9d59376-a021-4825-9819-9c9e18d4ad38",
   "metadata": {},
   "source": [
    "# binarysearch\n",
    "# what if L is sorted in asending order \n",
    "# compare v with the midpoint l\n",
    "#if midpoint is v the value is found\n",
    "#if v not less than midpoint search the second half\n",
    "#stop when yhe interval to search becomes empty"
   ]
  },
  {
   "cell_type": "code",
   "execution_count": 60,
   "id": "70366048-ee78-4fc4-ac23-7531ee90faeb",
   "metadata": {},
   "outputs": [],
   "source": [
    "def binarysearch(v,L):\n",
    "    if L == []:\n",
    "        return(False)\n",
    "    m = len(L)//2\n",
    "    if v == L[m]:\n",
    "        return(True)\n",
    "    if v < L[m]:\n",
    "        return(binarysearch(v,L[:m]))\n",
    "    else:\n",
    "        return(binarysearch(v,L[m+1 :]))"
   ]
  },
  {
   "cell_type": "code",
   "execution_count": 68,
   "id": "44039323-4532-4b98-a9b2-65e87205aa0c",
   "metadata": {},
   "outputs": [
    {
     "data": {
      "text/plain": [
       "(True, True, True, False)"
      ]
     },
     "execution_count": 68,
     "metadata": {},
     "output_type": "execute_result"
    }
   ],
   "source": [
    "binarysearch(6,L),binarysearch(8,L),binarysearch(4,L),binarysearch(22,L)"
   ]
  },
  {
   "cell_type": "raw",
   "id": "3b43f911-20d8-4ad3-b053-d71380b4a3f8",
   "metadata": {},
   "source": [
    "# Search in an unsorted list takes time O(n)\n",
    "# For sorted list,binary search takes time O(logn)"
   ]
  },
  {
   "cell_type": "code",
   "execution_count": 9,
   "id": "afe24a1b-35bf-481d-8011-d94a1785d153",
   "metadata": {},
   "outputs": [],
   "source": [
    "#Sorting a list\n",
    "def selectionsort(L):\n",
    "    n = len(L)\n",
    "    if n < 1 :\n",
    "        return(L)\n",
    "    for i in range(n):\n",
    "        #Assume L[:i] is sorted\n",
    "        mops = i\n",
    "        #mops :bposition of minium in L[i]\n",
    "        for j in range(i+1,n):\n",
    "            if L[j] < L[mops]:\n",
    "                mops = j\n",
    "        # L [mops] = smallest value in L[i:]\n",
    "        # Exchange L[mops] and L[i]\n",
    "        (L[i],L[mops]) = (L[mops],L[i])\n",
    "        # now l [ :i+1] is sorted\n",
    "    return(L)"
   ]
  },
  {
   "cell_type": "code",
   "execution_count": 11,
   "id": "e5e77da3-819f-4bf0-a6d4-7d6c808342a5",
   "metadata": {},
   "outputs": [
    {
     "data": {
      "text/plain": [
       "[5, 7, 12, 20, 45, 100]"
      ]
     },
     "execution_count": 11,
     "metadata": {},
     "output_type": "execute_result"
    }
   ],
   "source": [
    "A = [12,20,45,5,7,100]\n",
    "selectionsort(A)"
   ]
  },
  {
   "cell_type": "code",
   "execution_count": 19,
   "id": "2b2f9c07-3a6c-477e-a1a9-b8bb0f82e5ee",
   "metadata": {},
   "outputs": [],
   "source": [
    "def insertionSort(L):\n",
    "    n = len(L)\n",
    "    if n < 1 :\n",
    "        return(L)\n",
    "    for i in range(n):\n",
    "        #Assume L[:i] is sorted\n",
    "        #Move L[i] to correct position in L\n",
    "        j = i\n",
    "        while (j> 0 and L[i] < L[j - 1]):\n",
    "            (L[j],L[j-1]) = (L[j-1],L[j])\n",
    "            j = j-1\n",
    "            #Now L[:i+1] is sorted\n",
    "    return(L)"
   ]
  },
  {
   "cell_type": "code",
   "execution_count": 21,
   "id": "06966b75-5940-46e3-8767-cc57c3ef6f4a",
   "metadata": {},
   "outputs": [
    {
     "data": {
      "text/plain": [
       "[5, 7, 12, 20, 45, 100]"
      ]
     },
     "execution_count": 21,
     "metadata": {},
     "output_type": "execute_result"
    }
   ],
   "source": [
    "insertionSort(A)"
   ]
  },
  {
   "cell_type": "code",
   "execution_count": 86,
   "id": "4fd6fb3c-d7aa-40bb-8ad3-8d260a793b45",
   "metadata": {},
   "outputs": [],
   "source": [
    "# insrt a element in list using insertion sort\n",
    "def Insert(L,v):\n",
    "    n = len(L)\n",
    "    if n > 0:\n",
    "        return([v])\n",
    "    if v >= L[-1]:\n",
    "        return(L+[v])\n",
    "    else:\n",
    "        return(Insert(L[:-1],v) + L[-1:])\n",
    "\n",
    "#def Isort(L):\n",
    "        \n",
    "#    n = len(L)\n",
    "#    if n < 1:\n",
    "#        return(L)\n",
    "#    L = Insert(Isort(L[:-1]),L[-1])\n",
    "#    return(L)"
   ]
  },
  {
   "cell_type": "code",
   "execution_count": 90,
   "id": "25f305d6-6292-4f54-bfef-c120c2060048",
   "metadata": {},
   "outputs": [
    {
     "data": {
      "text/plain": [
       "[30]"
      ]
     },
     "execution_count": 90,
     "metadata": {},
     "output_type": "execute_result"
    }
   ],
   "source": [
    "A = [12,20,45,5,7,100]\n",
    "Insert(A,30) "
   ]
  },
  {
   "cell_type": "code",
   "execution_count": null,
   "id": "d17d6c1b-7ae2-4dfe-9c71-76c3b2321e57",
   "metadata": {},
   "outputs": [],
   "source": []
  },
  {
   "cell_type": "code",
   "execution_count": null,
   "id": "bae4919b-2e68-4030-ae07-83f6b55a9fd9",
   "metadata": {},
   "outputs": [],
   "source": []
  }
 ],
 "metadata": {
  "kernelspec": {
   "display_name": "Python 3 (ipykernel)",
   "language": "python",
   "name": "python3"
  },
  "language_info": {
   "codemirror_mode": {
    "name": "ipython",
    "version": 3
   },
   "file_extension": ".py",
   "mimetype": "text/x-python",
   "name": "python",
   "nbconvert_exporter": "python",
   "pygments_lexer": "ipython3",
   "version": "3.12.4"
  }
 },
 "nbformat": 4,
 "nbformat_minor": 5
}
