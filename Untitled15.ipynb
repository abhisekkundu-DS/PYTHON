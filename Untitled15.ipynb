{
 "cells": [
  {
   "cell_type": "code",
   "execution_count": 39,
   "id": "bd5d0cc5-7103-412b-a2e3-160b90abd9a1",
   "metadata": {},
   "outputs": [],
   "source": [
    "class Employee:\n",
    "#create a employee data sets\n",
    "    def __init__(self,empid = None, name = None ,salary = None):\n",
    "        self.empid = empid\n",
    "        self.name = name\n",
    "        self.salary = salary\n",
    "    #add data set value for empty sets\n",
    "    def set_emp_id(self,empid):\n",
    "        self.empid = empid\n",
    "    def set_name(self,name):\n",
    "        self.name = name\n",
    "    def set_salary(self,salary):\n",
    "        self.salary = salary\n",
    "    #show there data sets value\n",
    "    def get_emp_id(self):\n",
    "        return self.empid\n",
    "    def get_name(self):\n",
    "        return self.name\n",
    "    def get_salary(self):\n",
    "        return self.salary\n",
    "\n",
    "# e1 = Employee()\n",
    "# e2 = Employee(142,\"Abhisek\",54000)\n",
    "# e3 = Employee(256,\"Sibhasis\",5400)\n",
    "# e1.set_emp_id(123)\n",
    "# e1.set_salary(5400)\n",
    "# e1.set_name(\"Tonmay\")\n",
    "\n",
    "# print(e1.get_name(),e1.get_emp_id(),e1.get_salary())\n",
    "# print(e2.get_name(),e2.get_emp_id(),e2.get_salary())\n"
   ]
  },
  {
   "cell_type": "code",
   "execution_count": 41,
   "id": "ed030009-9fbf-46bd-a1ca-f1e2bdad6119",
   "metadata": {},
   "outputs": [],
   "source": [
    "e1 = Employee()\n",
    "e2 = Employee(142,\"Abhisek\",54000)\n",
    "e3 = Employee(256,\"Sibhasis\",5400)\n",
    "e1.set_emp_id(123)\n",
    "e1.set_salary(5400)\n",
    "e1.set_name(\"Tonmay\")"
   ]
  },
  {
   "cell_type": "code",
   "execution_count": 43,
   "id": "54b0af07-146d-4479-b5ed-95389ff07b29",
   "metadata": {},
   "outputs": [
    {
     "name": "stdout",
     "output_type": "stream",
     "text": [
      "Tonmay 123 5400\n",
      "Abhisek 142 54000\n"
     ]
    }
   ],
   "source": [
    "print(e1.get_name(),e1.get_emp_id(),e1.get_salary())\n",
    "print(e2.get_name(),e2.get_emp_id(),e2.get_salary())"
   ]
  },
  {
   "cell_type": "code",
   "execution_count": null,
   "id": "b82e7edc-87d2-4c62-883c-ab226a0b2ef8",
   "metadata": {},
   "outputs": [],
   "source": []
  },
  {
   "cell_type": "code",
   "execution_count": null,
   "id": "89c1c3cb-ba35-4281-ab30-a0f465fd9678",
   "metadata": {},
   "outputs": [],
   "source": []
  },
  {
   "cell_type": "code",
   "execution_count": null,
   "id": "3d0dd6db-eb20-4242-930b-8e51fd10c7e0",
   "metadata": {},
   "outputs": [],
   "source": []
  },
  {
   "cell_type": "code",
   "execution_count": null,
   "id": "6e929de7-7ab7-4618-9d40-7b2fa16cc4bf",
   "metadata": {},
   "outputs": [],
   "source": []
  },
  {
   "cell_type": "code",
   "execution_count": null,
   "id": "9c2b73af-89b6-4298-a1e3-4f91fffe996f",
   "metadata": {},
   "outputs": [],
   "source": []
  }
 ],
 "metadata": {
  "kernelspec": {
   "display_name": "Python 3 (ipykernel)",
   "language": "python",
   "name": "python3"
  },
  "language_info": {
   "codemirror_mode": {
    "name": "ipython",
    "version": 3
   },
   "file_extension": ".py",
   "mimetype": "text/x-python",
   "name": "python",
   "nbconvert_exporter": "python",
   "pygments_lexer": "ipython3",
   "version": "3.12.4"
  }
 },
 "nbformat": 4,
 "nbformat_minor": 5
}
